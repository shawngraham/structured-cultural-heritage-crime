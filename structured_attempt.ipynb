{
  "nbformat": 4,
  "nbformat_minor": 0,
  "metadata": {
    "colab": {
      "provenance": []
    },
    "kernelspec": {
      "name": "python3",
      "display_name": "Python 3"
    },
    "language_info": {
      "name": "python"
    }
  },
  "cells": [
    {
      "cell_type": "code",
      "execution_count": null,
      "metadata": {
        "id": "bWoI-a_CWUNC"
      },
      "outputs": [],
      "source": [
        "#from https://towardsdatascience.com/the-lesser-known-rising-application-of-llms-775834116477\n",
        "\n",
        "!git clone https://github.com/shawngraham/structured-cultural-heritage-crime"
      ]
    },
    {
      "cell_type": "code",
      "source": [
        "%cd structured-cultural-heritage-crime"
      ],
      "metadata": {
        "colab": {
          "base_uri": "https://localhost:8080/"
        },
        "id": "D0UJAHoTWZWA",
        "outputId": "fbcb5de4-10ef-4db5-d14b-a00e040c4cd5"
      },
      "execution_count": 3,
      "outputs": [
        {
          "output_type": "stream",
          "name": "stdout",
          "text": [
            "/content/structured-cultural-heritage-crime\n"
          ]
        }
      ]
    },
    {
      "cell_type": "code",
      "source": [
        "!pip install -r requirements.txt\n",
        "#should remove mistral and replace with openai\n"
      ],
      "metadata": {
        "id": "cfSMlskcWccf"
      },
      "execution_count": null,
      "outputs": []
    },
    {
      "cell_type": "code",
      "source": [
        "!pip install python-dotenv"
      ],
      "metadata": {
        "colab": {
          "base_uri": "https://localhost:8080/",
          "height": 0
        },
        "id": "kPfl_OPVWxqE",
        "outputId": "f6ab5022-2451-416b-fe7e-199a99af28cb"
      },
      "execution_count": 6,
      "outputs": [
        {
          "output_type": "stream",
          "name": "stdout",
          "text": [
            "Collecting python-dotenv\n",
            "  Downloading python_dotenv-1.0.1-py3-none-any.whl (19 kB)\n",
            "Installing collected packages: python-dotenv\n",
            "Successfully installed python-dotenv-1.0.1\n"
          ]
        }
      ]
    },
    {
      "cell_type": "code",
      "source": [
        "!pip install langchain-openai\n"
      ],
      "metadata": {
        "id": "mmu9CvtXZ-e9"
      },
      "execution_count": null,
      "outputs": []
    },
    {
      "cell_type": "code",
      "source": [
        "import os\n",
        "import json\n",
        "import time\n",
        "from pathlib import Path\n",
        "\n",
        "import pandas as pd\n",
        "from langchain.output_parsers import PydanticOutputParser\n",
        "#from langchain_mistralai.chat_models import ChatMistralAI\n",
        "from langchain_openai import ChatOpenAI\n",
        "from dotenv import load_dotenv\n",
        "\n",
        "from core import run\n",
        "from prompt import DEFAULT_BASE_PROMPT, create_prompt\n",
        "from schemas import CulturalHeritageSchema\n"
      ],
      "metadata": {
        "id": "J5fpdxgtWkql"
      },
      "execution_count": 6,
      "outputs": []
    },
    {
      "cell_type": "code",
      "source": [
        "\n",
        "from google.colab import userdata\n",
        "OPENAI_API_KEY = userdata.get(\"OPENAI_API_KEY\")"
      ],
      "metadata": {
        "id": "1GU-50YNXMoM"
      },
      "execution_count": 7,
      "outputs": []
    },
    {
      "cell_type": "code",
      "source": [
        "!unzip ../texts.zip"
      ],
      "metadata": {
        "colab": {
          "base_uri": "https://localhost:8080/"
        },
        "collapsed": true,
        "id": "Gz8qNS84XsrA",
        "outputId": "42f31028-1ed6-4a87-c1af-ad75efbcabbf"
      },
      "execution_count": 9,
      "outputs": [
        {
          "output_type": "stream",
          "name": "stdout",
          "text": [
            "Archive:  ../texts.zip\n",
            "   creating: texts/\n",
            "  inflating: texts/true.txt          \n",
            "  inflating: __MACOSX/texts/._true.txt  \n",
            "  inflating: texts/kouros.txt        \n",
            "  inflating: __MACOSX/texts/._kouros.txt  \n",
            "  inflating: texts/medici.txt        \n",
            "  inflating: __MACOSX/texts/._medici.txt  \n"
          ]
        }
      ]
    },
    {
      "cell_type": "code",
      "source": [
        "import os\n",
        "import pandas as pd\n",
        "\n",
        "def read_files_to_dataframe(folder_path: str) -> pd.DataFrame:\n",
        "    # List all text files in the folder\n",
        "    file_names = [f for f in os.listdir(folder_path) if f.endswith('.txt')]\n",
        "\n",
        "    # Read each file's content into a list\n",
        "    data = []\n",
        "    for file_name in file_names:\n",
        "        with open(os.path.join(folder_path, file_name), 'r', encoding='utf-8') as file:\n",
        "            content = file.read()\n",
        "            data.append(content)\n",
        "\n",
        "    # Create a DataFrame with the file contents\n",
        "    df = pd.DataFrame(data, columns=['content'])\n",
        "\n",
        "    return df\n",
        "\n",
        "# Usage example\n",
        "folder_path = 'texts'\n",
        "df = read_files_to_dataframe(folder_path)\n",
        "print(df)"
      ],
      "metadata": {
        "colab": {
          "base_uri": "https://localhost:8080/"
        },
        "id": "BsvH17GeYa2_",
        "outputId": "2be5de14-7b96-4c0e-c2e7-070aee3aba2d"
      },
      "execution_count": 10,
      "outputs": [
        {
          "output_type": "stream",
          "name": "stdout",
          "text": [
            "                                             content\n",
            "0  Marion True was Curator of Antiquities at the ...\n",
            "1  The Getty kouros (youth) is a 2 m high marble ...\n",
            "2  Giacomo Medici is an Italian antiquities deale...\n"
          ]
        }
      ]
    },
    {
      "cell_type": "code",
      "source": [
        "import importlib\n",
        "import sys\n",
        "importlib.reload(sys.modules['prompt'])\n",
        "from prompt import DEFAULT_BASE_PROMPT, create_prompt\n",
        "\n",
        "model_name = \"gpt-4o\"\n",
        "temperature = 0\n",
        "llm = ChatOpenAI(api_key=OPENAI_API_KEY, model_name=model_name, temperature=temperature)\n",
        "parser = PydanticOutputParser(pydantic_object=CulturalHeritageSchema)\n",
        "prompt = create_prompt(DEFAULT_BASE_PROMPT, parser, df[\"content\"][0])\n",
        "prompt\n"
      ],
      "metadata": {
        "colab": {
          "base_uri": "https://localhost:8080/"
        },
        "id": "2fplfZ4wYnpF",
        "outputId": "4108c9c9-4cbd-4dbd-e73c-b5243836024e"
      },
      "execution_count": 32,
      "outputs": [
        {
          "output_type": "execute_result",
          "data": {
            "text/plain": [
              "[HumanMessage(content='\\nExtract information regarding cultural heritage crime from the following text. \\n\\nIn particular, please provide the following information:\\n- A list of entities involved in the text, including their types and detailed descriptions.\\n- A list of relations that define how these entities interact with one another.\\n- A set of patterns that describe specific relational configurations between these entities, providing detailed contextual explanations.\\n\\nThe output should be formatted as a JSON instance that conforms to the JSON schema below.\\n\\nAs an example, for the schema {\"properties\": {\"foo\": {\"title\": \"Foo\", \"description\": \"a list of strings\", \"type\": \"array\", \"items\": {\"type\": \"string\"}}}, \"required\": [\"foo\"]}\\nthe object {\"foo\": [\"bar\", \"baz\"]} is a well-formatted instance of the schema. The object {\"properties\": {\"foo\": [\"bar\", \"baz\"]}} is not well-formatted.\\n\\nHere is the output schema:\\n```\\n{\"$defs\": {\"Entity\": {\"description\": \"Entity schema\", \"properties\": {\"name\": {\"description\": \"The name of the entity, representing various aspects or participants in the cultural heritage and art crime domain.\", \"examples\": [\"actor\", \"collection\", \"policy\", \"place\", \"artefact\", \"organization\", \"museum\", \"government_agency\", \"business\", \"auction_house\", \"culture_group\"], \"title\": \"Name\", \"type\": \"string\"}, \"description\": {\"description\": \"\\'actor\\' A PERSON who plays a role in the cultural heritage or art crime domain. Actors ARE ALWAYS referred by their Forename Surname, e.g, \\'Doe\\' becomes \\'John Doe\\'. ALL PERSONS ARE ACTORS FIRST AND FOREMOST.\\'collection\\' A named collection of antiquities. Collections ARE ALWAYS referred to by their formal name.\\'policy\\' A government or organizational scheme to set a framework around aspects of the art or cultural heritage domain.\\'place\\' A geographic locale where an event occurs or an object comes from or an organization etc is located.\\'artefact\\' Objects and artworks that come from a particular culture and are bought, sold, donated, stolen, looted, traded, by dealers, museums, agencies, and other organizations.\\'organization\\' Non-profits and other associations. Organizations ARE ALWAYS referred to with their full formal name, e.g, \\'RCMP\\' becomes \\'Royal Canadian Mounted Police\\'\\'museum\\' Institutions for the preservation, curation, and display of objects, museums ARE ALWAYS referred to with their full formal name, e.g., \\'the MET\\' becomes \\'The Metropolitan Museum of Art\\'.\\'government_agency\\' Government agencies ARE ALWAYS referred to with their full formal name, eg, \\'IRS\\' becomes \\'Internal Revenue Service\\'.\\'business\\' In this context they are enterprises for making money that are not auction houses or galleries. Businesses ARE ALWAYS referred to with their full formal name.\\'auction_house\\' An organization or gallery that facilitates the sale of artefacts between dealers and between collectors and between dealers and collectors and museums. Organizations ARE ALWAYS referred to with their full formal names.\\'culture_group\\' The people or cultural group to whom an artefact may be attributed, e.g., a 5th century kantharos comes from CLASSICAL GREECE.\\'place\\' A location where some event occurred.\\'scholar\\' A role subordinate to ACTOR, describing a PERSON who conducts academic or field research related to cultural heritage.\\'dealer\\' A role subordinate to ACTOR or ORGANIZATION, describing a PERSON or ENTITY involved in the buying and selling of artefacts.\\'collector\\' A role subordinate to ACTOR or ORGANIZATION, describing a PERSON or ENTITY that acquires artefacts for personal or institutional collections.\\'looter\\' A role subordinate to ACTOR, describing a PERSON who illegally excavates or steals cultural heritage artefacts.\\'officer\\' A role subordinate to ACTOR, describing a PERSON who enforces laws or regulations related to cultural heritage, such as police officers or customs agents, or holds a managerial role in a museum.\\'\", \"title\": \"Description\", \"type\": \"string\"}}, \"required\": [\"name\", \"description\"], \"title\": \"Entity\", \"type\": \"object\"}, \"Pattern\": {\"description\": \"Pattern schema\", \"properties\": {\"head\": {\"description\": \"Specifies the entity type that constitutes the subject or starting point of the relationship pattern. Examples include \\'actor\\', \\'organization\\', or \\'artefact\\'. Each pattern begins with this entity.\", \"examples\": [\"actor\", \"organization\", \"artefact\", \"auction_house\", \"government_agency\"], \"title\": \"Head\", \"type\": \"string\"}, \"relation\": {\"description\": \"Defines the type of relationship that connects the head entity to the tail entity. This field identifies the interaction or connection between entities, such as \\'works_with\\', \\'has_immediate_family_member\\', or \\'owns\\'.\", \"examples\": [\"works_with\", \"has_immediate_family_member\", \"is_the_owner_of\", \"has_possession_of\", \"comes_from\", \"sells\", \"purchases\", \"buys_from\", \"legal_status_change\", \"has_role\"], \"title\": \"Relation\", \"type\": \"string\"}, \"tail\": {\"description\": \"Specifies the entity type that constitutes the object or endpoint of the relationship pattern. Examples include entities such as \\'actor\\', \\'business\\', \\'artefact\\', or \\'role\\'. This completes the relationship pattern by defining what or who the head entity is connected to.\", \"examples\": [\"actor\", \"business\", \"artefact\", \"culture_group\", \"auction_house\", \"role\"], \"title\": \"Tail\", \"type\": \"string\"}, \"description\": {\"description\": \"A detailed explanation of the specific pattern of relationships between entities. This field elaborates on how the head and tail entities are connected through the defined relationship, providing context and examples to illustrate typical scenarios in the cultural heritage domain.\", \"title\": \"Description\", \"type\": \"string\"}}, \"required\": [\"head\", \"relation\", \"tail\", \"description\"], \"title\": \"Pattern\", \"type\": \"object\"}, \"Relation\": {\"description\": \"Relation schema\", \"properties\": {\"name\": {\"description\": \"The specific name of the relationship that can exist between entities in the domain.\", \"examples\": [\"is_the_owner_of\", \"works_with\", \"works_for\", \"has_possession_of\", \"purchases\", \"buys_from\", \"sells\", \"donates_to\", \"obtains_from\", \"comes_from\", \"has_immediate_family_member\", \"legal_status_change\", \"has_role\"], \"title\": \"Name\", \"type\": \"string\"}, \"description\": {\"description\": \"\\'is_the_owner_of\\' Denotes a business relationship where an ACTOR controls, or is the legal owner of, a business, gallery, auction house, or other for-profit organization.\\'\\'works_with\\'  Denotes a business relationship between ACTORS who are dealers, organizations, looters, or collectors.\\'\\'works_for\\' Describes an employment or contractual relationship between ACTORS who are dealers, organizations, businesses, museums, government agencies, looters, or collectors.\\'\\'has_possession_of\\' Describes a situation where a dealer, organization, collector, or auction house controls an artefact whether through ownership or other means.\\'\\'purchases\\' Describes a situation where a dealer, organization, collector, or auction house buys AN ARTEFACT. e.g., John Smith purchases the Elgin Vase.\\'\\'buys_from\\' Describes a situation where a dealer, organization, collector, or auction house buys an artefact from a NAMED ACTOR. e.g, John Smith bought from Jane Doe the Elgin Vase.\\'\\'sells\\' Describes a situation where a dealer, organization, collector, or auction house sells AN ARTEFACT. e.g. Jane Doe sells the Elgin Vase.\\'\\'donates_to\\' Describes a situation where a dealer, organization, collector, or auction house donates an artefact to another entity.\\'\\'obtains_from\\' Describes a situation where a dealer, organization, collector, or auction house obtains an artefact from another entity UNDER UNCLEAR CIRCUMSTANCES.\\'\\'comes_from\\' Describes a situation where the provenance of an artefact is attributed, e.g., a 5th century black-figure vase comes from classical Greece.\\'\\'has_immediate_family_member\\' Describes a direct familial relationship between two individuals, including relationships by blood (e.g., parent, child, sibling) and by legal commitments such as marriage (e.g., spouse). Excludes more distant blood relationships and informal relationships like common-law partnerships UNLESS that relationship is explicitly mentioned.\\'\\'legal_status_change\\' Describes when an organization, business, person, or so on, has come to the attention of law enforcement as when e.g., a person is charged with theft, an organization is sanctioned, an arrest warrant is issued.\\'\\'has_role\\' Describes the role or roles an actor or organization can have, such as SCHOLAR, DEALER, COLLECTOR, LOOTER, or OFFICER.\\' \", \"title\": \"Description\", \"type\": \"string\"}}, \"required\": [\"name\", \"description\"], \"title\": \"Relation\", \"type\": \"object\"}}, \"description\": \"Cultural Heritage Schema\", \"properties\": {\"entities\": {\"description\": \"An extensive list of all entities relevant to the cultural heritage domain. Each entity type is characterized by its unique role or representation within the domain, from actors like individuals and organizations to artefacts, collections, and more.\", \"items\": {\"$ref\": \"#/$defs/Entity\"}, \"title\": \"Entities\", \"type\": \"array\"}, \"relations\": {\"description\": \"An exhaustive list of all possible relations that can exist amongst the different entities. Relations define the various ways in which entities within the cultural heritage domain can interact or be connected to one another, such as ownership, collaboration, or provenance.\", \"items\": {\"$ref\": \"#/$defs/Relation\"}, \"title\": \"Relations\", \"type\": \"array\"}, \"patterns\": {\"description\": \"A detailed collection of patterns that describe specific relational configurations between entities. These patterns help in understanding complex interactions and connections within the cultural heritage domain, providing clear examples and scenarios for better comprehension.\", \"items\": {\"$ref\": \"#/$defs/Pattern\"}, \"title\": \"Patterns\", \"type\": \"array\"}}, \"required\": [\"entities\", \"relations\", \"patterns\"]}\\n```\\n\\nMake sure to provide a valid and well-formatted JSON adhering to the given schema.\\n\\nContent:\\nMarion True was Curator of Antiquities at the J.Paul Getty Museum in Los Angeles from 1986 until 2005. She was charged and tried in both Italy and Greece on offences related to antiquities smuggling, but never convicted.\\n\\nMarion True was appointed curatorial assistant at the J. Paul Getty Museum in 1982, under the supervision of Jiri Frel, the then Curator of Antiquities. After Frel’s departure in 1986, True was promoted to replace him as curator.\\n\\nDuring the period of her curatorship, True was responsible for some controversial acquisitions of unprovenanced material, including the 1988 purchase of the Getty Aphrodite, the 1993 purchase of a fourth-century BC gold funerary wreath from Greece, and the 1996 acquisition of the Barbara and Lawrence Fleischman Collection. She also rejected some potentially high-profile assemblages, including the Kanakaria mosaics in 1988, which she recognized as stolen, and the Sevso Treasure, when she discovered that the accompanying documents of provenance were probably forgeries. She was prepared to return material to its country of origin if it was shown convincingly to have an illicit provenance, including several hundred ceramic fragments acquired by donation between 1979 and 1981, that in 1994 were found to have been looted from a sanctuary at Francavilla Maritima in Italy.\\n\\nTrue was the driving force behind the Getty’s adoption of clear policy guidelines as regards its acquisition of unprovenanced antiquities. The first version, in 1987, which was believed at the time by True to be the only policy of its kind in place at a major collecting museum, required the Getty to notify in writing the appropriate authority of a possible country of origin about a potential acquisition, and request information about theft or illegal export. The acquisition would only proceed if no such information was forthcoming. Furthermore, if at any time after acquisition a country could make a verifiable claim of theft or illegal export, the Getty would return the object in question, notwithstanding any legal protection offered by a statute of limitations. This policy was strengthened in November 1995 by the assurance that an unprovenanced object would only be acquired if it had been published or otherwise publicly documented as out of its country of origin prior to November 1995. This requirement for public documentation was intended to protect against forged provenances, which True believed were rife in the antiquities trade. Several pieces were returned in accordance with the policy. Nevertheless, the sincerity of the Getty’s motives was called into question by the 1996 acquisition of the Fleischman Collection, comprising largely unprovenanced material, which had been published only in 1994 by the Getty itself.\\n\\nTrue was offered the position of Curator of Greek and Roman Art at the Metropolitan Museum in New York in 1991 after Dietrich von Bothmer’s retirement the year before, but declined the offer when she was presented with the opportunity to oversee the projected renovation and redesign of the Getty Villa in Malibu, which was to house the Getty’s antiquities collection. The project cost $275 million and the Villa reopened in January 2006. True suggested that the 1995 revision of the acquisitions policy was part of a larger change in mission occasioned by this reimagining of the Getty Villa, which envisaged a shift in primary purpose for the museum from collecting antiquities to conservation abroad and incoming loan exhibitions.\\n\\nIn 1995, True bought a house on the Greek island of Paros with the help of a four-year loan of $400,000 from Christos Michaelides, partner of antiquities dealer Robin Symes, from whom the Getty had bought several important pieces, including the Aphrodite. Just days after the acquisition of the Fleischman Collection in 1996, she paid back Michaelides with money borrowed from the Fleischmans on a twenty-year mortgage. When these loans came to the attention of the Getty trustees in September 2005, True was fired for failing to declare them in contravention of the Getty’s conflict-of-interest policy. On 1 April 2005, a few months before her dismissal, True was charged in Italy with receiving stolen antiquities and conspiring with dealers Robert Hecht and Giacomo Medici to receive stolen antiquities, and she was ordered to stand trial in Rome. The case against True had materialized as Italian investigators working through photographic and documentary material seized from Medici’s Geneva storerooms began to suspect her involvement. It was quickly recognized that True had acquired a  fifth-century BC bronze tripod and candelabrum for the Getty in 1990 that had been stolen from the long established Guglielmo Collection in Italy. Letters were also discovered revealing what appeared to be friendly relations between True, Medici and Hecht. Finally, there was a set of photographs recording forty-two objects that had passed through the hands of Medici before ultimately being acquired by the Getty. The investigators also came to believe that prior to 1996 True had been encouraging the Fleischmans to buy objects of dubious provenance in the knowledge that they would ultimately be donated to the Getty—in effect, using the Fleischman Collection to launder potentially illicit material.\\n\\nTrue argued in her defence that staying on good terms with antiquities dealers was a professional requirement of her position as curator, that she had not acquired objects for her own benefit, but for the museum, and that she should not take sole responsibility for acquisitions made during her tenure as curator, as they had all been made with the approval of the Getty CEO, Director, in-house counsel, and Board of Trustees. This statement was supported by internal Getty documentation. Indeed, many of the objects in the photographs seized at Medici’s storerooms had been acquired before True was curator. Both True and Barbara Fleischman rejected out of hand any imputation of collusion. The trial commenced on 16 November 2005, and was abandoned without verdict on 13 October 2010 as the limitation period on True’s alleged offences expired. True complained that she had been ‘neither condemned nor vindicated’.\\n\\nIn November 2006, Greek prosecutors charged True in connection with the fourth-century BC gold funerary wreath acquired in 1993, which was by then believed to have been taken out of Greece illegally. In November 2007, her trial was ended without resolution after the expiry of the statute of limitations .\\n\\n')]"
            ]
          },
          "metadata": {},
          "execution_count": 32
        }
      ]
    },
    {
      "cell_type": "code",
      "source": [
        "example = await run(llm, prompt, parser)\n",
        "example"
      ],
      "metadata": {
        "colab": {
          "base_uri": "https://localhost:8080/"
        },
        "id": "Qyk0vzOYZASW",
        "outputId": "567637b7-ed9a-4c72-a79c-cb6b5ef7a2b8"
      },
      "execution_count": 33,
      "outputs": [
        {
          "output_type": "execute_result",
          "data": {
            "text/plain": [
              "CulturalHeritageSchema(entities=[Entity(name='Marion True', description='actor'), Entity(name='J. Paul Getty Museum', description='museum'), Entity(name='Jiri Frel', description='actor'), Entity(name='Getty Aphrodite', description='artefact'), Entity(name='fourth-century BC gold funerary wreath', description='artefact'), Entity(name='Barbara and Lawrence Fleischman Collection', description='collection'), Entity(name='Kanakaria mosaics', description='artefact'), Entity(name='Sevso Treasure', description='artefact'), Entity(name='Francavilla Maritima', description='place'), Entity(name='Getty Villa', description='place'), Entity(name='Christos Michaelides', description='actor'), Entity(name='Robin Symes', description='dealer'), Entity(name='Robert Hecht', description='dealer'), Entity(name='Giacomo Medici', description='dealer'), Entity(name='Guglielmo Collection', description='collection'), Entity(name='Barbara Fleischman', description='actor'), Entity(name='Greek prosecutors', description='government_agency')], relations=[Relation(name='works_for', description='Describes an employment or contractual relationship between ACTORS who are dealers, organizations, businesses, museums, government agencies, looters, or collectors.'), Relation(name='has_role', description='Describes the role or roles an actor or organization can have, such as SCHOLAR, DEALER, COLLECTOR, LOOTER, or OFFICER.'), Relation(name='purchases', description='Describes a situation where a dealer, organization, collector, or auction house buys AN ARTEFACT. e.g., John Smith purchases the Elgin Vase.'), Relation(name='rejects', description='Describes a situation where an actor or organization refuses to accept or acquire an artefact.'), Relation(name='comes_from', description='Describes a situation where the provenance of an artefact is attributed, e.g., a 5th century black-figure vase comes from classical Greece.'), Relation(name='has_possession_of', description='Describes a situation where a dealer, organization, collector, or auction house controls an artefact whether through ownership or other means.'), Relation(name='donates_to', description='Describes a situation where a dealer, organization, collector, or auction house donates an artefact to another entity.'), Relation(name='legal_status_change', description='Describes when an organization, business, person, or so on, has come to the attention of law enforcement as when e.g., a person is charged with theft, an organization is sanctioned, an arrest warrant is issued.'), Relation(name='has_immediate_family_member', description='Describes a direct familial relationship between two individuals, including relationships by blood (e.g., parent, child, sibling) and by legal commitments such as marriage (e.g., spouse).'), Relation(name='has_policy', description='Describes a situation where an organization or museum has a specific policy in place.')], patterns=[Pattern(head='Marion True', relation='works_for', tail='J. Paul Getty Museum', description='Marion True was employed as the Curator of Antiquities at the J. Paul Getty Museum from 1986 until 2005.'), Pattern(head='Marion True', relation='has_role', tail='Curator of Antiquities', description='Marion True held the role of Curator of Antiquities at the J. Paul Getty Museum.'), Pattern(head='Marion True', relation='purchases', tail='Getty Aphrodite', description='Marion True was responsible for the acquisition of the Getty Aphrodite in 1988.'), Pattern(head='Marion True', relation='purchases', tail='fourth-century BC gold funerary wreath', description='Marion True was responsible for the acquisition of a fourth-century BC gold funerary wreath from Greece in 1993.'), Pattern(head='Marion True', relation='purchases', tail='Barbara and Lawrence Fleischman Collection', description='Marion True was responsible for the acquisition of the Barbara and Lawrence Fleischman Collection in 1996.'), Pattern(head='Marion True', relation='rejects', tail='Kanakaria mosaics', description='Marion True rejected the Kanakaria mosaics in 1988, recognizing them as stolen.'), Pattern(head='Marion True', relation='rejects', tail='Sevso Treasure', description='Marion True rejected the Sevso Treasure when she discovered that the accompanying documents of provenance were probably forgeries.'), Pattern(head='Marion True', relation='has_possession_of', tail='several hundred ceramic fragments', description='Marion True was prepared to return several hundred ceramic fragments to their country of origin if shown convincingly to have an illicit provenance.'), Pattern(head='Marion True', relation='legal_status_change', tail='charged in Italy', description='Marion True was charged in Italy with receiving stolen antiquities and conspiring with dealers Robert Hecht and Giacomo Medici to receive stolen antiquities.'), Pattern(head='Marion True', relation='legal_status_change', tail='charged in Greece', description='Marion True was charged in Greece in connection with the fourth-century BC gold funerary wreath acquired in 1993.'), Pattern(head='J. Paul Getty Museum', relation='has_policy', tail='acquisition policy', description='The J. Paul Getty Museum adopted clear policy guidelines regarding the acquisition of unprovenanced antiquities, driven by Marion True.'), Pattern(head='Marion True', relation='has_role', tail='Curator of Greek and Roman Art', description='Marion True was offered the position of Curator of Greek and Roman Art at the Metropolitan Museum in New York in 1991 but declined.'), Pattern(head='Marion True', relation='has_possession_of', tail='house on the Greek island of Paros', description='Marion True bought a house on the Greek island of Paros with the help of a loan from Christos Michaelides.'), Pattern(head='Marion True', relation='has_immediate_family_member', tail='Christos Michaelides', description='Christos Michaelides, who helped Marion True with a loan, was the partner of antiquities dealer Robin Symes.'), Pattern(head='Marion True', relation='works_with', tail='Robert Hecht', description='Marion True was charged with conspiring with dealer Robert Hecht to receive stolen antiquities.'), Pattern(head='Marion True', relation='works_with', tail='Giacomo Medici', description='Marion True was charged with conspiring with dealer Giacomo Medici to receive stolen antiquities.'), Pattern(head='Marion True', relation='has_possession_of', tail='fifth-century BC bronze tripod and candelabrum', description='Marion True acquired a fifth-century BC bronze tripod and candelabrum for the Getty in 1990 that had been stolen from the Guglielmo Collection in Italy.'), Pattern(head='Marion True', relation='donates_to', tail='Getty', description='Marion True was believed to have encouraged the Fleischmans to buy objects of dubious provenance to be donated to the Getty.'), Pattern(head='Greek prosecutors', relation='legal_status_change', tail='Marion True', description='Greek prosecutors charged Marion True in connection with the fourth-century BC gold funerary wreath acquired in 1993.')])"
            ]
          },
          "metadata": {},
          "execution_count": 33
        }
      ]
    },
    {
      "cell_type": "code",
      "source": [
        "## on all the text\n",
        "raw_outputs = []\n",
        "outputs = []\n",
        "\n",
        "for i in range(df.shape[0]):\n",
        "\n",
        "    prompt = create_prompt(DEFAULT_BASE_PROMPT, parser, df[\"content\"][i])\n",
        "    result = await run(llm, prompt, parser)\n",
        "    raw_outputs.append(result)\n",
        "\n",
        "    output_map = {\n",
        "        \"article_id\":i,\n",
        "    }\n",
        "\n",
        "    if isinstance(result, CulturalHeritageSchema):\n",
        "        output =  output_map | result.dict()\n",
        "        outputs.append(output)\n",
        "    else:\n",
        "        output_map[\"raw_llm_output\"] = result\n",
        "        outputs.append(output_map)\n",
        "\n",
        "    time.sleep(1)"
      ],
      "metadata": {
        "id": "W1UXbWv6ov8P"
      },
      "execution_count": null,
      "outputs": []
    }
  ]
}