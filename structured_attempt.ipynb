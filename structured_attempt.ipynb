{
  "nbformat": 4,
  "nbformat_minor": 0,
  "metadata": {
    "colab": {
      "provenance": []
    },
    "kernelspec": {
      "name": "python3",
      "display_name": "Python 3"
    },
    "language_info": {
      "name": "python"
    }
  },
  "cells": [
    {
      "cell_type": "code",
      "execution_count": null,
      "metadata": {
        "id": "bWoI-a_CWUNC"
      },
      "outputs": [],
      "source": [
        "#from https://towardsdatascience.com/the-lesser-known-rising-application-of-llms-775834116477\n",
        "\n",
        "!git clone https://github.com/shawngraham/structured-cultural-heritage-crime"
      ]
    },
    {
      "cell_type": "code",
      "source": [
        "%cd structured-cultural-heritage-crime"
      ],
      "metadata": {
        "colab": {
          "base_uri": "https://localhost:8080/"
        },
        "id": "D0UJAHoTWZWA",
        "outputId": "fbcb5de4-10ef-4db5-d14b-a00e040c4cd5"
      },
      "execution_count": 3,
      "outputs": [
        {
          "output_type": "stream",
          "name": "stdout",
          "text": [
            "/content/structured-cultural-heritage-crime\n"
          ]
        }
      ]
    },
    {
      "cell_type": "code",
      "source": [
        "!pip install -r requirements.txt\n",
        "#should remove mistral and replace with openai\n"
      ],
      "metadata": {
        "id": "cfSMlskcWccf"
      },
      "execution_count": null,
      "outputs": []
    },
    {
      "cell_type": "code",
      "source": [
        "!pip install python-dotenv"
      ],
      "metadata": {
        "colab": {
          "base_uri": "https://localhost:8080/",
          "height": 0
        },
        "id": "kPfl_OPVWxqE",
        "outputId": "f6ab5022-2451-416b-fe7e-199a99af28cb"
      },
      "execution_count": 6,
      "outputs": [
        {
          "output_type": "stream",
          "name": "stdout",
          "text": [
            "Collecting python-dotenv\n",
            "  Downloading python_dotenv-1.0.1-py3-none-any.whl (19 kB)\n",
            "Installing collected packages: python-dotenv\n",
            "Successfully installed python-dotenv-1.0.1\n"
          ]
        }
      ]
    },
    {
      "cell_type": "code",
      "source": [
        "!pip install langchain-openai\n"
      ],
      "metadata": {
        "id": "mmu9CvtXZ-e9"
      },
      "execution_count": null,
      "outputs": []
    },
    {
      "cell_type": "code",
      "source": [
        "import os\n",
        "import json\n",
        "import time\n",
        "from pathlib import Path\n",
        "\n",
        "import pandas as pd\n",
        "from langchain.output_parsers import PydanticOutputParser\n",
        "#from langchain_mistralai.chat_models import ChatMistralAI\n",
        "from langchain_openai import ChatOpenAI\n",
        "from dotenv import load_dotenv\n",
        "\n",
        "from core import run\n",
        "from prompt import DEFAULT_BASE_PROMPT, create_prompt\n",
        "from schemas import CulturalHeritageSchema\n"
      ],
      "metadata": {
        "id": "J5fpdxgtWkql"
      },
      "execution_count": 6,
      "outputs": []
    },
    {
      "cell_type": "code",
      "source": [
        "\n",
        "from google.colab import userdata\n",
        "OPENAI_API_KEY = userdata.get(\"OPENAI_API_KEY\")"
      ],
      "metadata": {
        "id": "1GU-50YNXMoM"
      },
      "execution_count": 7,
      "outputs": []
    },
    {
      "cell_type": "code",
      "source": [
        "!unzip ../texts.zip"
      ],
      "metadata": {
        "colab": {
          "base_uri": "https://localhost:8080/"
        },
        "collapsed": true,
        "id": "Gz8qNS84XsrA",
        "outputId": "42f31028-1ed6-4a87-c1af-ad75efbcabbf"
      },
      "execution_count": 9,
      "outputs": [
        {
          "output_type": "stream",
          "name": "stdout",
          "text": [
            "Archive:  ../texts.zip\n",
            "   creating: texts/\n",
            "  inflating: texts/true.txt          \n",
            "  inflating: __MACOSX/texts/._true.txt  \n",
            "  inflating: texts/kouros.txt        \n",
            "  inflating: __MACOSX/texts/._kouros.txt  \n",
            "  inflating: texts/medici.txt        \n",
            "  inflating: __MACOSX/texts/._medici.txt  \n"
          ]
        }
      ]
    },
    {
      "cell_type": "code",
      "source": [
        "import os\n",
        "import pandas as pd\n",
        "\n",
        "def read_files_to_dataframe(folder_path: str) -> pd.DataFrame:\n",
        "    # List all text files in the folder\n",
        "    file_names = [f for f in os.listdir(folder_path) if f.endswith('.txt')]\n",
        "\n",
        "    # Read each file's content into a list\n",
        "    data = []\n",
        "    for file_name in file_names:\n",
        "        with open(os.path.join(folder_path, file_name), 'r', encoding='utf-8') as file:\n",
        "            content = file.read()\n",
        "            data.append(content)\n",
        "\n",
        "    # Create a DataFrame with the file contents\n",
        "    df = pd.DataFrame(data, columns=['content'])\n",
        "\n",
        "    return df\n",
        "\n",
        "# Usage example\n",
        "folder_path = 'texts'\n",
        "df = read_files_to_dataframe(folder_path)\n",
        "print(df)"
      ],
      "metadata": {
        "colab": {
          "base_uri": "https://localhost:8080/"
        },
        "id": "BsvH17GeYa2_",
        "outputId": "2be5de14-7b96-4c0e-c2e7-070aee3aba2d"
      },
      "execution_count": 10,
      "outputs": [
        {
          "output_type": "stream",
          "name": "stdout",
          "text": [
            "                                             content\n",
            "0  Marion True was Curator of Antiquities at the ...\n",
            "1  The Getty kouros (youth) is a 2 m high marble ...\n",
            "2  Giacomo Medici is an Italian antiquities deale...\n"
          ]
        }
      ]
    },
    {
      "cell_type": "code",
      "source": [
        "import importlib\n",
        "import sys\n",
        "importlib.reload(sys.modules['prompt'])\n",
        "importlib.reload(sys.modules['schemas'])\n",
        "from prompt import DEFAULT_BASE_PROMPT, create_prompt\n",
        "from schemas import CulturalHeritageSchema\n",
        "\n",
        "model_name = \"gpt-4o\"\n",
        "temperature = 0\n",
        "llm = ChatOpenAI(api_key=OPENAI_API_KEY, model_name=model_name, temperature=temperature)\n",
        "parser = PydanticOutputParser(pydantic_object=CulturalHeritageSchema)\n",
        "prompt = create_prompt(DEFAULT_BASE_PROMPT, parser, df[\"content\"][0])\n",
        "prompt\n"
      ],
      "metadata": {
        "colab": {
          "base_uri": "https://localhost:8080/"
        },
        "id": "2fplfZ4wYnpF",
        "outputId": "54f4ce33-4c2f-4da4-f1c1-cd55b713672a"
      },
      "execution_count": 74,
      "outputs": [
        {
          "output_type": "execute_result",
          "data": {
            "text/plain": [
              "[HumanMessage(content='\\nExtract information regarding cultural heritage crime from the following text.\\n\\nIn particular, please provide the following information:\\n- A list of triplets, where each triplet consists of two entities and the relation between them. Only use the predefined relations listed below and provide detailed descriptions for each entity.\\n\\nThe predefined relations are:\\n- \\'is_the_owner_of\\': Denotes a business relationship where an actor controls, or is the legal owner of, a business, gallery, auction house, or other for-profit organization.\\n- \\'works_with\\': Denotes a business relationship between actors who are dealers, organizations, looters, or collectors.\\n- \\'works_for\\': Describes an employment or contractual relationship between actors who are dealers, organizations, businesses, museums, government agencies, looters, or collectors.\\n- \\'has_possession_of\\': Describes a situation where a dealer, organization, collector, or auction house controls an artefact whether through ownership or other means.\\n- \\'purchases\\': Describes a situation where a dealer, organization, collector, or auction house buys an artefact.\\n- \\'buys_from\\': Describes a situation where a dealer, organization, collector, or auction house buys an artefact from a named actor.\\n- \\'sells\\': Describes a situation where a dealer, organization, collector, or auction house sells an artefact.\\n- \\'donates_to\\': Describes a situation where a dealer, organization, collector, or auction house donates an artefact to another entity.\\n- \\'obtains_from\\': Describes a situation where a dealer, organization, collector, or auction house obtains an artefact from another entity under unclear circumstances.\\n- \\'comes_from\\': Describes a situation where the provenance of an artefact is attributed.\\n- \\'has_immediate_family_member\\': Describes a direct familial relationship between two individuals.\\n- \\'legal_status_change\\': Describes when an organization, business, person, etc., has come to the attention of law enforcement.\\n- \\'has_role\\': Describes the role or roles an actor or organization can have.\\n\\nThe output should be formatted as a JSON instance that conforms to the JSON schema below.\\n\\nAs an example, for the schema {\"properties\": {\"foo\": {\"title\": \"Foo\", \"description\": \"a list of strings\", \"type\": \"array\", \"items\": {\"type\": \"string\"}}}, \"required\": [\"foo\"]}\\nthe object {\"foo\": [\"bar\", \"baz\"]} is a well-formatted instance of the schema. The object {\"properties\": {\"foo\": [\"bar\", \"baz\"]}} is not well-formatted.\\n\\nHere is the output schema:\\n```\\n{\"$defs\": {\"Entity\": {\"description\": \"Entity schema\", \"properties\": {\"name\": {\"description\": \"The name of the entity, representing various participants in the cultural heritage and art crime domain.\", \"examples\": [\"John Doe -- an actor\", \"Ancient Greek Vase -- an artefact\", \"The Metropolitan Museum of Art -- a museum\", \"Royal Canadian Mounted Police -- an organization\", \"Internal Revenue Service -- a government agency\"], \"title\": \"Name\", \"type\": \"string\"}}, \"required\": [\"name\"], \"title\": \"Entity\", \"type\": \"object\"}, \"Relation\": {\"description\": \"Relation schema\", \"properties\": {\"name\": {\"allOf\": [{\"$ref\": \"#/$defs/RelationType\"}], \"description\": \"The specific name of the relationship that can exist between entities in the domain.\"}}, \"required\": [\"name\"], \"title\": \"Relation\", \"type\": \"object\"}, \"RelationType\": {\"enum\": [\"is_the_owner_of\", \"works_with\", \"works_for\", \"has_possession_of\", \"purchases\", \"buys_from\", \"sells\", \"donates_to\", \"obtains_from\", \"comes_from\", \"has_immediate_family_member\", \"legal_status_change\", \"has_role\"], \"title\": \"RelationType\", \"type\": \"string\"}, \"Triplet\": {\"description\": \"Triplet schema to represent entity-relation-entity structure\", \"properties\": {\"entity1\": {\"allOf\": [{\"$ref\": \"#/$defs/Entity\"}], \"description\": \"The first entity in the triplet.\"}, \"relation\": {\"allOf\": [{\"$ref\": \"#/$defs/Relation\"}], \"description\": \"The relation connecting the first and second entities.\"}, \"entity2\": {\"allOf\": [{\"$ref\": \"#/$defs/Entity\"}], \"description\": \"The second entity in the triplet.\"}}, \"required\": [\"entity1\", \"relation\", \"entity2\"], \"title\": \"Triplet\", \"type\": \"object\"}}, \"description\": \"Cultural Heritage Schema\", \"properties\": {\"triplets\": {\"description\": \"A list of triplets, where each triplet consists of two entities and the relation between them. Triplets capture the structured relationships within the cultural heritage domain.\", \"items\": {\"$ref\": \"#/$defs/Triplet\"}, \"title\": \"Triplets\", \"type\": \"array\"}}, \"required\": [\"triplets\"]}\\n```\\n\\nMake sure to provide a valid and well-formatted JSON adhering to the given schema.\\n\\nContent:\\nMarion True was Curator of Antiquities at the J.Paul Getty Museum in Los Angeles from 1986 until 2005. She was charged and tried in both Italy and Greece on offences related to antiquities smuggling, but never convicted.\\n\\nMarion True was appointed curatorial assistant at the J. Paul Getty Museum in 1982, under the supervision of Jiri Frel, the then Curator of Antiquities. After Frel’s departure in 1986, True was promoted to replace him as curator.\\n\\nDuring the period of her curatorship, True was responsible for some controversial acquisitions of unprovenanced material, including the 1988 purchase of the Getty Aphrodite, the 1993 purchase of a fourth-century BC gold funerary wreath from Greece, and the 1996 acquisition of the Barbara and Lawrence Fleischman Collection. She also rejected some potentially high-profile assemblages, including the Kanakaria mosaics in 1988, which she recognized as stolen, and the Sevso Treasure, when she discovered that the accompanying documents of provenance were probably forgeries. She was prepared to return material to its country of origin if it was shown convincingly to have an illicit provenance, including several hundred ceramic fragments acquired by donation between 1979 and 1981, that in 1994 were found to have been looted from a sanctuary at Francavilla Maritima in Italy.\\n\\nTrue was the driving force behind the Getty’s adoption of clear policy guidelines as regards its acquisition of unprovenanced antiquities. The first version, in 1987, which was believed at the time by True to be the only policy of its kind in place at a major collecting museum, required the Getty to notify in writing the appropriate authority of a possible country of origin about a potential acquisition, and request information about theft or illegal export. The acquisition would only proceed if no such information was forthcoming. Furthermore, if at any time after acquisition a country could make a verifiable claim of theft or illegal export, the Getty would return the object in question, notwithstanding any legal protection offered by a statute of limitations. This policy was strengthened in November 1995 by the assurance that an unprovenanced object would only be acquired if it had been published or otherwise publicly documented as out of its country of origin prior to November 1995. This requirement for public documentation was intended to protect against forged provenances, which True believed were rife in the antiquities trade. Several pieces were returned in accordance with the policy. Nevertheless, the sincerity of the Getty’s motives was called into question by the 1996 acquisition of the Fleischman Collection, comprising largely unprovenanced material, which had been published only in 1994 by the Getty itself.\\n\\nTrue was offered the position of Curator of Greek and Roman Art at the Metropolitan Museum in New York in 1991 after Dietrich von Bothmer’s retirement the year before, but declined the offer when she was presented with the opportunity to oversee the projected renovation and redesign of the Getty Villa in Malibu, which was to house the Getty’s antiquities collection. The project cost $275 million and the Villa reopened in January 2006. True suggested that the 1995 revision of the acquisitions policy was part of a larger change in mission occasioned by this reimagining of the Getty Villa, which envisaged a shift in primary purpose for the museum from collecting antiquities to conservation abroad and incoming loan exhibitions.\\n\\nIn 1995, True bought a house on the Greek island of Paros with the help of a four-year loan of $400,000 from Christos Michaelides, partner of antiquities dealer Robin Symes, from whom the Getty had bought several important pieces, including the Aphrodite. Just days after the acquisition of the Fleischman Collection in 1996, she paid back Michaelides with money borrowed from the Fleischmans on a twenty-year mortgage. When these loans came to the attention of the Getty trustees in September 2005, True was fired for failing to declare them in contravention of the Getty’s conflict-of-interest policy. On 1 April 2005, a few months before her dismissal, True was charged in Italy with receiving stolen antiquities and conspiring with dealers Robert Hecht and Giacomo Medici to receive stolen antiquities, and she was ordered to stand trial in Rome. The case against True had materialized as Italian investigators working through photographic and documentary material seized from Medici’s Geneva storerooms began to suspect her involvement. It was quickly recognized that True had acquired a  fifth-century BC bronze tripod and candelabrum for the Getty in 1990 that had been stolen from the long established Guglielmo Collection in Italy. Letters were also discovered revealing what appeared to be friendly relations between True, Medici and Hecht. Finally, there was a set of photographs recording forty-two objects that had passed through the hands of Medici before ultimately being acquired by the Getty. The investigators also came to believe that prior to 1996 True had been encouraging the Fleischmans to buy objects of dubious provenance in the knowledge that they would ultimately be donated to the Getty—in effect, using the Fleischman Collection to launder potentially illicit material.\\n\\nTrue argued in her defence that staying on good terms with antiquities dealers was a professional requirement of her position as curator, that she had not acquired objects for her own benefit, but for the museum, and that she should not take sole responsibility for acquisitions made during her tenure as curator, as they had all been made with the approval of the Getty CEO, Director, in-house counsel, and Board of Trustees. This statement was supported by internal Getty documentation. Indeed, many of the objects in the photographs seized at Medici’s storerooms had been acquired before True was curator. Both True and Barbara Fleischman rejected out of hand any imputation of collusion. The trial commenced on 16 November 2005, and was abandoned without verdict on 13 October 2010 as the limitation period on True’s alleged offences expired. True complained that she had been ‘neither condemned nor vindicated’.\\n\\nIn November 2006, Greek prosecutors charged True in connection with the fourth-century BC gold funerary wreath acquired in 1993, which was by then believed to have been taken out of Greece illegally. In November 2007, her trial was ended without resolution after the expiry of the statute of limitations .\\n')]"
            ]
          },
          "metadata": {},
          "execution_count": 74
        }
      ]
    },
    {
      "cell_type": "code",
      "source": [
        "example = await run(llm, prompt, parser)\n",
        "example"
      ],
      "metadata": {
        "colab": {
          "base_uri": "https://localhost:8080/"
        },
        "id": "Qyk0vzOYZASW",
        "outputId": "e6b3aef8-8c0e-4d35-f411-2363959038da"
      },
      "execution_count": 75,
      "outputs": [
        {
          "output_type": "execute_result",
          "data": {
            "text/plain": [
              "CulturalHeritageSchema(triplets=[Triplet(entity1=Entity(name='Marion True'), relation=Relation(name=<RelationType.works_for: 'works_for'>), entity2=Entity(name='J. Paul Getty Museum')), Triplet(entity1=Entity(name='Jiri Frel'), relation=Relation(name=<RelationType.works_for: 'works_for'>), entity2=Entity(name='J. Paul Getty Museum')), Triplet(entity1=Entity(name='Marion True'), relation=Relation(name=<RelationType.has_role: 'has_role'>), entity2=Entity(name='Curator of Antiquities')), Triplet(entity1=Entity(name='Jiri Frel'), relation=Relation(name=<RelationType.has_role: 'has_role'>), entity2=Entity(name='Curator of Antiquities')), Triplet(entity1=Entity(name='J. Paul Getty Museum'), relation=Relation(name=<RelationType.has_possession_of: 'has_possession_of'>), entity2=Entity(name='Getty Aphrodite')), Triplet(entity1=Entity(name='J. Paul Getty Museum'), relation=Relation(name=<RelationType.purchases: 'purchases'>), entity2=Entity(name='Getty Aphrodite')), Triplet(entity1=Entity(name='J. Paul Getty Museum'), relation=Relation(name=<RelationType.purchases: 'purchases'>), entity2=Entity(name='fourth-century BC gold funerary wreath')), Triplet(entity1=Entity(name='J. Paul Getty Museum'), relation=Relation(name=<RelationType.has_possession_of: 'has_possession_of'>), entity2=Entity(name='Barbara and Lawrence Fleischman Collection')), Triplet(entity1=Entity(name='J. Paul Getty Museum'), relation=Relation(name=<RelationType.purchases: 'purchases'>), entity2=Entity(name='Barbara and Lawrence Fleischman Collection')), Triplet(entity1=Entity(name='Marion True'), relation=Relation(name=<RelationType.works_with: 'works_with'>), entity2=Entity(name='Robert Hecht')), Triplet(entity1=Entity(name='Marion True'), relation=Relation(name=<RelationType.works_with: 'works_with'>), entity2=Entity(name='Giacomo Medici')), Triplet(entity1=Entity(name='Marion True'), relation=Relation(name=<RelationType.works_with: 'works_with'>), entity2=Entity(name='Barbara Fleischman')), Triplet(entity1=Entity(name='Marion True'), relation=Relation(name=<RelationType.works_with: 'works_with'>), entity2=Entity(name='Lawrence Fleischman')), Triplet(entity1=Entity(name='Marion True'), relation=Relation(name=<RelationType.legal_status_change: 'legal_status_change'>), entity2=Entity(name='Italy')), Triplet(entity1=Entity(name='Marion True'), relation=Relation(name=<RelationType.legal_status_change: 'legal_status_change'>), entity2=Entity(name='Greece')), Triplet(entity1=Entity(name='J. Paul Getty Museum'), relation=Relation(name=<RelationType.has_possession_of: 'has_possession_of'>), entity2=Entity(name='fifth-century BC bronze tripod and candelabrum')), Triplet(entity1=Entity(name='Guglielmo Collection'), relation=Relation(name=<RelationType.comes_from: 'comes_from'>), entity2=Entity(name='fifth-century BC bronze tripod and candelabrum')), Triplet(entity1=Entity(name='Marion True'), relation=Relation(name=<RelationType.obtains_from: 'obtains_from'>), entity2=Entity(name='Giacomo Medici')), Triplet(entity1=Entity(name='Marion True'), relation=Relation(name=<RelationType.obtains_from: 'obtains_from'>), entity2=Entity(name='Robert Hecht')), Triplet(entity1=Entity(name='Marion True'), relation=Relation(name=<RelationType.obtains_from: 'obtains_from'>), entity2=Entity(name='Barbara Fleischman')), Triplet(entity1=Entity(name='Marion True'), relation=Relation(name=<RelationType.obtains_from: 'obtains_from'>), entity2=Entity(name='Lawrence Fleischman')), Triplet(entity1=Entity(name='Marion True'), relation=Relation(name=<RelationType.has_role: 'has_role'>), entity2=Entity(name='Curator of Greek and Roman Art')), Triplet(entity1=Entity(name='Metropolitan Museum'), relation=Relation(name=<RelationType.works_with: 'works_with'>), entity2=Entity(name='Marion True')), Triplet(entity1=Entity(name='Christos Michaelides'), relation=Relation(name=<RelationType.works_with: 'works_with'>), entity2=Entity(name='Robin Symes')), Triplet(entity1=Entity(name='Robin Symes'), relation=Relation(name=<RelationType.sells: 'sells'>), entity2=Entity(name='Getty Aphrodite')), Triplet(entity1=Entity(name='Robin Symes'), relation=Relation(name=<RelationType.sells: 'sells'>), entity2=Entity(name='J. Paul Getty Museum')), Triplet(entity1=Entity(name='Marion True'), relation=Relation(name=<RelationType.obtains_from: 'obtains_from'>), entity2=Entity(name='Christos Michaelides')), Triplet(entity1=Entity(name='Marion True'), relation=Relation(name=<RelationType.legal_status_change: 'legal_status_change'>), entity2=Entity(name='Getty trustees')), Triplet(entity1=Entity(name='Marion True'), relation=Relation(name=<RelationType.legal_status_change: 'legal_status_change'>), entity2=Entity(name='Italian investigators')), Triplet(entity1=Entity(name='Giacomo Medici'), relation=Relation(name=<RelationType.has_possession_of: 'has_possession_of'>), entity2=Entity(name='photographic and documentary material')), Triplet(entity1=Entity(name='Giacomo Medici'), relation=Relation(name=<RelationType.has_possession_of: 'has_possession_of'>), entity2=Entity(name='forty-two objects')), Triplet(entity1=Entity(name='Giacomo Medici'), relation=Relation(name=<RelationType.sells: 'sells'>), entity2=Entity(name='J. Paul Getty Museum')), Triplet(entity1=Entity(name='Robert Hecht'), relation=Relation(name=<RelationType.sells: 'sells'>), entity2=Entity(name='J. Paul Getty Museum'))])"
            ]
          },
          "metadata": {},
          "execution_count": 75
        }
      ]
    },
    {
      "cell_type": "code",
      "source": [
        "## on all the text\n",
        "raw_outputs = []\n",
        "outputs = []\n",
        "\n",
        "for i in range(df.shape[0]):\n",
        "\n",
        "    prompt = create_prompt(DEFAULT_BASE_PROMPT, parser, df[\"content\"][i])\n",
        "    result = await run(llm, prompt, parser)\n",
        "    raw_outputs.append(result)\n",
        "\n",
        "    output_map = {\n",
        "        \"article_id\":i,\n",
        "    }\n",
        "\n",
        "    if isinstance(result, CulturalHeritageSchema):\n",
        "        output =  output_map | result.dict()\n",
        "        outputs.append(output)\n",
        "    else:\n",
        "        output_map[\"raw_llm_output\"] = result\n",
        "        outputs.append(output_map)\n",
        "\n",
        "    time.sleep(1)"
      ],
      "metadata": {
        "colab": {
          "base_uri": "https://localhost:8080/"
        },
        "id": "W1UXbWv6ov8P",
        "outputId": "0016fd3d-7816-4397-9b84-d7c8622264cc"
      },
      "execution_count": 76,
      "outputs": [
        {
          "output_type": "stream",
          "name": "stdout",
          "text": [
            "Error in parsing Failed to parse CulturalHeritageSchema from completion {\"triplets\": [{\"entity1\": {\"name\": \"Giacomo Medici\"}, \"relation\": {\"name\": \"is_the_owner_of\"}, \"entity2\": {\"name\": \"Antiquaria Romana\"}}, {\"entity1\": {\"name\": \"Giacomo Medici\"}, \"relation\": {\"name\": \"is_the_owner_of\"}, \"entity2\": {\"name\": \"Editions Services\"}}, {\"entity1\": {\"name\": \"Giacomo Medici\"}, \"relation\": {\"name\": \"works_with\"}, \"entity2\": {\"name\": \"Robert Hecht\"}}, {\"entity1\": {\"name\": \"Giacomo Medici\"}, \"relation\": {\"name\": \"works_with\"}, \"entity2\": {\"name\": \"Christian Boursaud\"}}, {\"entity1\": {\"name\": \"Giacomo Medici\"}, \"relation\": {\"name\": \"works_with\"}, \"entity2\": {\"name\": \"Robin Symes\"}}, {\"entity1\": {\"name\": \"Giacomo Medici\"}, \"relation\": {\"name\": \"works_with\"}, \"entity2\": {\"name\": \"Frieda Tchacos\"}}, {\"entity1\": {\"name\": \"Giacomo Medici\"}, \"relation\": {\"name\": \"works_with\"}, \"entity2\": {\"name\": \"Nikolas Koutoulakis\"}}, {\"entity1\": {\"name\": \"Giacomo Medici\"}, \"relation\": {\"name\": \"works_with\"}, \"entity2\": {\"name\": \"Ali Aboutaam\"}}, {\"entity1\": {\"name\": \"Giacomo Medici\"}, \"relation\": {\"name\": \"works_with\"}, \"entity2\": {\"name\": \"Hicham Aboutaam\"}}, {\"entity1\": {\"name\": \"Giacomo Medici\"}, \"relation\": {\"name\": \"has_possession_of\"}, \"entity2\": {\"name\": \"Euphronios (Sarpedon) krater\"}}, {\"entity1\": {\"name\": \"Giacomo Medici\"}, \"relation\": {\"name\": \"sells\"}, \"entity2\": {\"name\": \"Robert Hecht\"}}, {\"entity1\": {\"name\": \"Hydra Gallery\"}, \"relation\": {\"name\": \"sells\"}, \"entity2\": {\"name\": \"J. Paul Getty Museum\"}}, {\"entity1\": {\"name\": \"Hydra Gallery\"}, \"relation\": {\"name\": \"has_possession_of\"}, \"entity2\": {\"name\": \"Onesimos kylix\"}}, {\"entity1\": {\"name\": \"J. Paul Getty Museum\"}, \"relation\": {\"name\": \"donates_to\"}, \"entity2\": {\"name\": \"Italy\"}}, {\"entity1\": {\"name\": \"Giacomo Medici\"}, \"relation\": {\"name\": \"works_with\"}, \"entity2\": {\"name\": \"Mat Securitas\"}}, {\"entity1\": {\"name\": \"Giacomo Medici\"}, \"relation\": {\"name\": \"works_with\"}, \"entity2\": {\"name\": \"Arts Franc\"}}, {\"entity1\": {\"name\": \"Giacomo Medici\"}, \"relation\": {\"name\": \"works_with\"}, \"entity2\": {\"name\": \"Tecafin Fiduciaire\"}}, {\"entity1\": {\"name\": \"Giacomo Medici\"}, \"relation\": {\"name\": \"works_with\"}, \"entity2\": {\"name\": \"Lawrence Fleischman\"}}, {\"entity1\": {\"name\": \"Giacomo Medici\"}, \"relation\": {\"name\": \"works_with\"}, \"entity2\": {\"name\": \"Barbara Fleischman\"}}, {\"entity1\": {\"name\": \"Giacomo Medici\"}, \"relation\": {\"name\": \"works_with\"}, \"entity2\": {\"name\": \"Maurice Tempelsman\"}}, {\"entity1\": {\"name\": \"Giacomo Medici\"}, \"relation\": {\"name\": \"works_with\"}, \"entity2\": {\"name\": \"Shelby White\"}}, {\"entity1\": {\"name\": \"Giacomo Medici\"}, \"relation\": {\"name\": \"works_with\"}, \"entity2\": {\"name\": \"Leon Levy\"}}, {\"entity1\": {\"name\": \"Giacomo Medici\"}, \"relation\": {\"name\": \"works_with\"}, \"entity2\": {\"name\": \"Hunt brothers\"}}, {\"entity1\": {\"name\": \"Giacomo Medici\"}, \"relation\": {\"name\": \"works_with\"}, \"entity2\": {\"name\": \"George Ortiz\"}}, {\"entity1\": {\"name\": \"Giacomo Medici\"}, \"relation\": {\"name\": \"works_with\"}, \"entity2\": {\"name\": \"Jos\\u00e9 Luis V\\u00e1rez Fisa\"}}, {\"entity1\": {\"name\": \"Giacomo Medici\"}, \"relation\": {\"name\": \"works_with\"}, \"entity2\": {\"name\": \"J. Paul Getty Museum\"}}, {\"entity1\": {\"name\": \"Giacomo Medici\"}, \"relation\": {\"name\": \"works_with\"}, \"entity2\": {\"name\": \"Metropolitan Museum of Art\"}}, {\"entity1\": {\"name\": \"Giacomo Medici\"}, \"relation\": {\"name\": \"works_with\"}, \"entity2\": {\"name\": \"Cleveland Museum of Art\"}}, {\"entity1\": {\"name\": \"Giacomo Medici\"}, \"relation\": {\"name\": \"works_with\"}, \"entity2\": {\"name\": \"Boston Museum of Fine Arts\"}}, {\"entity1\": {\"name\": \"Editions Services\"}, \"relation\": {\"name\": \"sells\"}, \"entity2\": {\"name\": \"Sotheby\\u2019s London\"}}, {\"entity1\": {\"name\": \"Sotheby\\u2019s London\"}, \"relation\": {\"name\": \"obtains_from\"}, \"entity2\": {\"name\": \"Editions Services\"}}, {\"entity1\": {\"name\": \"Giacomo Medici\"}, \"relation\": {\"name\": \"legal_status_change\"}, \"entity2\": {\"name\": \"Carabinieri\"}}, {\"entity1\": {\"name\": \"Giacomo Medici\"}, \"relation\": {\"name\": \"legal_status_change\"}, \"entity2\": {\"name\": \"Swiss police\"}}, {\"entity1\": {\"name\": \"Giacomo Medici\"}, \"relation\": {\"name\": \"has_possession_of\"}, \"entity2\": {\"name\": \"3,800 whole or fragmentary objects\"}}, {\"entity1\": {\"name\": \"Giacomo Medici\"}, \"relation\": {\"name\": \"has_possession_of\"}, \"entity2\": {\"name\": \"4,000 photographs of artefacts\"}}, {\"entity1\": {\"name\": \"Giacomo Medici\"}, \"relation\": {\"name\": \"has_possession_of\"}, \"entity2\": {\"name\": \"35,000 sheets of paper\"}}, {\"entity1\": {\"name\": \"Giacomo Medici\"}, \"relation\": {\"name\": \"has_possession_of\"}, \"entity2\": {\"name\": \"artefacts from Italy, Egypt, Syria, Greece, and Asia\"}}, {\"entity1\": {\"name\": \"Swiss authorities\"}, \"relation\": {\"name\": \"donates_to\"}, \"entity2\": {\"name\": \"Italy\"}}, {\"entity1\": {\"name\": \"Giacomo Medici\"}, \"relation\": {\"name\": \"legal_status_change\"}, \"entity2\": {\"name\": \"Carabinieri\"}}, {\"entity1\": {\"name\": \"Giacomo Medici\"}, \"relation\": {\"name\": \"legal_status_change\"}, \"entity2\": {\"name\": \"Swiss police\"}}, {\"entity1\": {\"name\": \"Giacomo Medici\"}, \"relation\": {\"name\": \"legal_status_change\"}, \"entity2\": {\"name\": \"Carabinieri\"}}, {\"entity1\": {\"name\": \"Giacomo Medici\"}, \"relation\": {\"name\": \"legal_status_change\"}, \"entity2\": {\"name\": \"Carabinieri\"}}, {\"entity1\": {\"name\": \"Giacomo Medici\"}, \"relation\": {\"name\": \"legal_status_change\"}, \"entity2\": {\"name\": \"Carabinieri\"}}, {\"entity1\": {\"name\": \"Giacomo Medici\"}, \"relation\": {\"name\": \"legal_status_change\"}, \"entity2\": {\"name\": \"Carabinieri\"}}, {\"entity1\": {\"name\": \"Giacomo Medici\"}, \"relation\": {\"name\": \"legal_status_change\"}, \"entity2\": {\"name\": \"Carabinieri\"}}, {\"entity1\": {\"name\": \"Giacomo Medici\"}, \"relation\": {\"name\": \"legal_status_change\"}, \"entity2\": {\"name\": \"Carabinieri\"}}, {\"entity1\": {\"name\": \"Giacomo Medici\"}, \"relation\": {\"name\": \"legal_status_change\"}, \"entity2\": {\"name\": \"Carabinieri\"}}, {\"entity1\": {\"name\": \"Giacomo Medici\"}, \"relation\": {\"name\": \"legal_status_change\"}, \"entity2\": {\"name\": \"Carabinieri\"}}, {\"entity1\": {\"name\": \"Giacomo Medici\"}, \"relation\": {\"name\": \"legal_status_change\"}, \"entity2\": {\"name\": \"Carabinieri\"}}, {\"entity1\": {\"name\": \"Giacomo Medici\"}, \"relation\": {\"name\": \"legal_status_change\"}, \"entity2\": {\"name\": \"Carabinieri\"}}, {\"entity1\": {\"name\": \"Giacomo Medici\"}, \"relation\": {\"name\": \"legal_status_change\"}, \"entity2\": {\"name\": \"Carabinieri\"}}, {\"entity1\": {\"name\": \"Giacomo Medici\"}, \"relation\": {\"name\": \"legal_status_change\"}, \"entity2\": {\"name\": \"Carabinieri\"}}, {\"entity1\": {\"name\": \"Giacomo Medici\"}, \"relation\": {\"name\": \"legal_status_change\"}, \"entity2\": {\"name\": \"Carabinieri\"}}, {\"entity1\": {\"name\": \"Giacomo Medici\"}, \"relation\": {\"name\": \"legal_status_change\"}, \"entity2\": {\"name\": \"Carabinieri\"}}, {\"entity1\": {\"name\": \"Giacomo Medici\"}, \"relation\": {\"name\": \"legal_status_change\"}, \"entity2\": {\"name\": \"Carabinieri\"}}, {\"entity1\": {\"name\": \"Giacomo Medici\"}, \"relation\": {\"name\": \"legal_status_change\"}, \"entity2\": {\"name\": \"Carabinieri\"}}, {\"entity1\": {\"name\": \"Giacomo Medici\"}, \"relation\": {\"name\": \"legal_status_change\"}, \"entity2\": {\"name\": \"Carabinieri\"}}, {\"entity1\": {\"name\": \"Giacomo Medici\"}, \"relation\": {\"name\": \"legal_status_change\"}, \"entity2\": {\"name\": \"Carabinieri\"}}, {\"entity1\": {\"name\": \"Giacomo Medici\"}, \"relation\": {\"name\": \"legal_status_change\"}, \"entity2\": {\"name\": \"Carabinieri\"}}, {\"entity1\": {\"name\": \"Giacomo Medici\"}, \"relation\": {\"name\": \"legal_status_change\"}, \"entity2\": {\"name\": \"Carabinieri\"}}, {\"entity1\": {\"name\": \"Giacomo Medici\"}, \"relation\": {\"name\": \"legal_status_change\"}, \"entity2\": {\"name\": \"Carabinieri\"}}, {\"entity1\": {\"name\": \"Giacomo Medici\"}, \"relation\": {\"name\": \"legal_status_change\"}, \"entity2\": {\"name\": \"Carabinieri\"}}, {\"entity1\": {\"name\": \"Giacomo Medici\"}, \"relation\": {\"name\": \"legal_status_change\"}, \"entity2\": {\"name\": \"Carabinieri\"}}, {\"entity1\": {\"name\": \"Giacomo Medici\"}, \"relation\": {\"name\": \"legal_status_change\"}, \"entity2\": {\"name\": \"Carabinieri\"}}, {\"entity1\": {\"name\": \"Giacomo Medici\"}, \"relation\": {\"name\": \"legal_status_change\"}, \"entity2\": {\"name\": \"Carabinieri\"}}, {\"entity1\": {\"name\": \"Giacomo Medici\"}, \"relation\": {\"name\": \"legal_status_change\"}, \"entity2\": {\"name\": \"Carabinieri\"}}, {\"entity1\": {\"name\": \"Giacomo Medici\"}, \"relation\": {\"name\": \"legal_status_change\"}, \"entity2\": {\"name\": \"Carabinieri\"}}, {\"entity1\": {\"name\": \"Giacomo Medici\"}, \"relation\": {\"name\": \"legal_status_change\"}, \"entity2\": {\"name\": \"Carabinieri\"}}, {\"entity1\": {\"name\": \"Giacomo Medici\"}, \"relation\": {\"name\": \"legal_status_change\"}, \"entity2\": {\"name\": \"Carabinieri\"}}, {\"entity1\": {\"name\": \"Giacomo Medici\"}, \"relation\": {\"name\": \"legal_status_change\"}, \"entity2\": {\"name\": \"Carabinieri\"}}, {\"entity1\": {\"name\": \"Giacomo Medici\"}, \"relation\": {\"name\": \"legal_status_change\"}, \"entity2\": {\"name\": \"Carabinieri\"}}, {\"entity1\": {\"name\": \"Giacomo Medici\"}, \"relation\": {\"name\": \"legal_status_change\"}, \"entity2\": {\"name\": \"Carabinieri\"}}, {\"entity1\": {\"name\": \"Giacomo Medici\"}}]}. Got: 2 validation errors for CulturalHeritageSchema\n",
            "triplets.72.relation\n",
            "  Field required [type=missing, input_value={'entity1': {'name': 'Giacomo Medici'}}, input_type=dict]\n",
            "    For further information visit https://errors.pydantic.dev/2.7/v/missing\n",
            "triplets.72.entity2\n",
            "  Field required [type=missing, input_value={'entity1': {'name': 'Giacomo Medici'}}, input_type=dict]\n",
            "    For further information visit https://errors.pydantic.dev/2.7/v/missing\n"
          ]
        }
      ]
    },
    {
      "cell_type": "code",
      "source": [
        "import pandas as pd\n",
        "import asyncio\n",
        "import nest_asyncio\n",
        "\n",
        "# Allow nested use of asyncio in environments like Jupyter\n",
        "nest_asyncio.apply()\n",
        "\n",
        "raw_outputs = []\n",
        "outputs = []\n",
        "\n",
        "# Assuming you have an asynchronous function to run the model\n",
        "async def process_content(content: str, idx: int, llm, parser):\n",
        "    prompt = create_prompt(DEFAULT_BASE_PROMPT, parser, content)\n",
        "    result = await run(llm, prompt, parser)\n",
        "    raw_outputs.append(result)  # Store raw output for logging or debugging purposes\n",
        "\n",
        "    output_map = {\n",
        "        \"article_id\": idx,\n",
        "    }\n",
        "\n",
        "    if isinstance(result, CulturalHeritageSchema):\n",
        "        output = output_map | result.dict()\n",
        "        outputs.append(output)\n",
        "    else:\n",
        "        output_map[\"raw_llm_output\"] = result\n",
        "        outputs.append(output_map)\n",
        "\n",
        "    return result\n",
        "\n",
        "async def main():\n",
        "    # Placeholder for the processed triplets\n",
        "    processed_triplets = []\n",
        "\n",
        "    for i in range(df.shape[0]):\n",
        "        content = df[\"content\"][i]\n",
        "        result = await process_content(content, i, llm, parser)\n",
        "\n",
        "        # Only continue if the result is of the expected type\n",
        "        if isinstance(result, CulturalHeritageSchema):\n",
        "            for triplet in result.triplets:\n",
        "                processed_triplets.append({\n",
        "                    \"article_id\": i,\n",
        "                    \"entity1\": triplet.entity1.name,\n",
        "                    \"relation\": triplet.relation.name,\n",
        "                    \"entity2\": triplet.entity2.name\n",
        "                })\n",
        "\n",
        "    # Create DataFrame with columns entity1, relation, entity2\n",
        "    result_df = pd.DataFrame(processed_triplets, columns=[\"article_id\", \"entity1\", \"relation\", \"entity2\"])\n",
        "\n",
        "    return result_df\n",
        "\n",
        "# Function to run the async function in both environments\n",
        "def run_main_loop():\n",
        "    # Get or create the event loop\n",
        "    try:\n",
        "        # If there's already an event loop, use it\n",
        "        loop = asyncio.get_running_loop()\n",
        "    except RuntimeError:\n",
        "        # If no event loop is running, create one\n",
        "        loop = asyncio.new_event_loop()\n",
        "        asyncio.set_event_loop(loop)\n",
        "\n",
        "    return loop.run_until_complete(main())\n",
        "\n",
        "# Run the main async function\n",
        "result_df = run_main_loop()\n",
        "print(result_df)"
      ],
      "metadata": {
        "colab": {
          "base_uri": "https://localhost:8080/"
        },
        "id": "YDPAvwFRqMa4",
        "outputId": "a9b38359-910f-4c92-9814-ed0c9acae861"
      },
      "execution_count": 80,
      "outputs": [
        {
          "output_type": "stream",
          "name": "stderr",
          "text": [
            "/usr/local/lib/python3.10/dist-packages/pydantic/json_schema.py:334: RuntimeWarning: coroutine 'main' was never awaited\n",
            "  mapping[key] = getattr(self, method_name)\n",
            "RuntimeWarning: Enable tracemalloc to get the object allocation traceback\n"
          ]
        },
        {
          "output_type": "stream",
          "name": "stdout",
          "text": [
            "    article_id               entity1                          relation  \\\n",
            "0            0           Marion True            RelationType.works_for   \n",
            "1            0             Jiri Frel            RelationType.works_for   \n",
            "2            0           Marion True             RelationType.has_role   \n",
            "3            0             Jiri Frel             RelationType.has_role   \n",
            "4            0  J. Paul Getty Museum    RelationType.has_possession_of   \n",
            "..         ...                   ...                               ...   \n",
            "63           2        Giacomo Medici  RelationType.legal_status_change   \n",
            "64           2        Giacomo Medici  RelationType.legal_status_change   \n",
            "65           2        Giacomo Medici  RelationType.legal_status_change   \n",
            "66           2        Giacomo Medici             RelationType.has_role   \n",
            "67           2        Giacomo Medici             RelationType.has_role   \n",
            "\n",
            "                   entity2  \n",
            "0     J. Paul Getty Museum  \n",
            "1     J. Paul Getty Museum  \n",
            "2   Curator of Antiquities  \n",
            "3   Curator of Antiquities  \n",
            "4          Getty Aphrodite  \n",
            "..                     ...  \n",
            "63   appeals court in Rome  \n",
            "64             Marion True  \n",
            "65            Robert Hecht  \n",
            "66      antiquities dealer  \n",
            "67                 convict  \n",
            "\n",
            "[68 rows x 4 columns]\n"
          ]
        }
      ]
    },
    {
      "cell_type": "code",
      "source": [
        "result_df.to_csv('out.csv', index=True)"
      ],
      "metadata": {
        "id": "6gys97Iu60OT"
      },
      "execution_count": 83,
      "outputs": []
    },
    {
      "cell_type": "code",
      "source": [],
      "metadata": {
        "id": "1hsirKwc60Ep"
      },
      "execution_count": null,
      "outputs": []
    }
  ]
}